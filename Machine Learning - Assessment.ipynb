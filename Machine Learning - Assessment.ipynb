{
 "cells": [
  {
   "cell_type": "markdown",
   "metadata": {},
   "source": [
    "#  Machine learning project notebook"
   ]
  },
  {
   "cell_type": "markdown",
   "metadata": {},
   "source": [
    "### Student: G00219132 Susan Hudson - Module: Machine Learning & Statistics, GMIT"
   ]
  },
  {
   "cell_type": "markdown",
   "metadata": {},
   "source": [
    "### Notebook structure\n",
    "\n",
    "The notebook is split up into the following sections which are based on the project statement requirements.\n",
    "\n",
    "* Section One - General setup and importation of necessary python libraries/packages and dataset\n",
    "* Section Two - Descriptive Statistics\n",
    "* Section Three - Inferential Statistics\n",
    "* Section Four - Predictive Statistics\n",
    "* Section Five - references and conclusion"
   ]
  },
  {
   "cell_type": "markdown",
   "metadata": {},
   "source": [
    "## Section One - Importing libraries and dataset"
   ]
  },
  {
   "cell_type": "markdown",
   "metadata": {},
   "source": [
    "Below is a list of python packages used in this notebook and the loading of the dataset and conversion to a pandas dataframe.\n"
   ]
  },
  {
   "cell_type": "code",
   "execution_count": 1,
   "metadata": {},
   "outputs": [
    {
     "name": "stderr",
     "output_type": "stream",
     "text": [
      "Using TensorFlow backend.\n"
     ]
    }
   ],
   "source": [
    "# Import all necessary python packages for this vnotebook\n",
    "\n",
    "import matplotlib.pyplot as plt \n",
    "#Matplotlib is a Python plotting library and Pyplot is a matplotlib module which provides a MATLAB type interface.\n",
    "plt.rcParams['figure.figsize'] = [10, 6]  #sets figure sizes for plots\n",
    "%matplotlib inline  \n",
    "#command abovr ensures plots display correctly in the notebook\n",
    "import seaborn as sns  #Seaborn is a Python package used for plotting data.\n",
    "import pandas as pd  #Pandas is a Python package for use with data frames.\n",
    "import scipy.stats as ss #statistical functions package\n",
    "import numpy as np #NumPy is a Python package for mathematical computing\n",
    "import sklearn.datasets #dataset location\n",
    "import keras as kr #deep learning library - used for predictive neural networks "
   ]
  },
  {
   "cell_type": "code",
   "execution_count": 2,
   "metadata": {},
   "outputs": [],
   "source": [
    "# dataset is imported and converted to a pandas dataframe\n",
    "sklearn.datasets.load_boston\n",
    "from sklearn.datasets import load_boston\n",
    "boston = load_boston()\n",
    "df = pd.DataFrame(boston.data, columns=boston.feature_names)\n",
    "df['MEDV'] = boston.target"
   ]
  },
  {
   "cell_type": "markdown",
   "metadata": {},
   "source": [
    "##  Section Two - Descriptive Statistics"
   ]
  },
  {
   "cell_type": "markdown",
   "metadata": {},
   "source": [
    "Descriptive Statistics looks at sunmary statistics for the population sample [1], to get a 'feel' for the data. I have chosen both visual and quamtitative analysis methods. \n",
    " "
   ]
  },
  {
   "cell_type": "code",
   "execution_count": 3,
   "metadata": {},
   "outputs": [
    {
     "name": "stdout",
     "output_type": "stream",
     "text": [
      "(506, 13)\n"
     ]
    },
    {
     "data": {
      "text/html": [
       "<div>\n",
       "<style scoped>\n",
       "    .dataframe tbody tr th:only-of-type {\n",
       "        vertical-align: middle;\n",
       "    }\n",
       "\n",
       "    .dataframe tbody tr th {\n",
       "        vertical-align: top;\n",
       "    }\n",
       "\n",
       "    .dataframe thead th {\n",
       "        text-align: right;\n",
       "    }\n",
       "</style>\n",
       "<table border=\"1\" class=\"dataframe\">\n",
       "  <thead>\n",
       "    <tr style=\"text-align: right;\">\n",
       "      <th></th>\n",
       "      <th>CRIM</th>\n",
       "      <th>ZN</th>\n",
       "      <th>INDUS</th>\n",
       "      <th>CHAS</th>\n",
       "      <th>NOX</th>\n",
       "      <th>RM</th>\n",
       "      <th>AGE</th>\n",
       "      <th>DIS</th>\n",
       "      <th>RAD</th>\n",
       "      <th>TAX</th>\n",
       "      <th>PTRATIO</th>\n",
       "      <th>B</th>\n",
       "      <th>LSTAT</th>\n",
       "      <th>MEDV</th>\n",
       "    </tr>\n",
       "  </thead>\n",
       "  <tbody>\n",
       "    <tr>\n",
       "      <td>0</td>\n",
       "      <td>0.00632</td>\n",
       "      <td>18.0</td>\n",
       "      <td>2.31</td>\n",
       "      <td>0.0</td>\n",
       "      <td>0.538</td>\n",
       "      <td>6.575</td>\n",
       "      <td>65.2</td>\n",
       "      <td>4.0900</td>\n",
       "      <td>1.0</td>\n",
       "      <td>296.0</td>\n",
       "      <td>15.3</td>\n",
       "      <td>396.90</td>\n",
       "      <td>4.98</td>\n",
       "      <td>24.0</td>\n",
       "    </tr>\n",
       "    <tr>\n",
       "      <td>1</td>\n",
       "      <td>0.02731</td>\n",
       "      <td>0.0</td>\n",
       "      <td>7.07</td>\n",
       "      <td>0.0</td>\n",
       "      <td>0.469</td>\n",
       "      <td>6.421</td>\n",
       "      <td>78.9</td>\n",
       "      <td>4.9671</td>\n",
       "      <td>2.0</td>\n",
       "      <td>242.0</td>\n",
       "      <td>17.8</td>\n",
       "      <td>396.90</td>\n",
       "      <td>9.14</td>\n",
       "      <td>21.6</td>\n",
       "    </tr>\n",
       "    <tr>\n",
       "      <td>2</td>\n",
       "      <td>0.02729</td>\n",
       "      <td>0.0</td>\n",
       "      <td>7.07</td>\n",
       "      <td>0.0</td>\n",
       "      <td>0.469</td>\n",
       "      <td>7.185</td>\n",
       "      <td>61.1</td>\n",
       "      <td>4.9671</td>\n",
       "      <td>2.0</td>\n",
       "      <td>242.0</td>\n",
       "      <td>17.8</td>\n",
       "      <td>392.83</td>\n",
       "      <td>4.03</td>\n",
       "      <td>34.7</td>\n",
       "    </tr>\n",
       "    <tr>\n",
       "      <td>3</td>\n",
       "      <td>0.03237</td>\n",
       "      <td>0.0</td>\n",
       "      <td>2.18</td>\n",
       "      <td>0.0</td>\n",
       "      <td>0.458</td>\n",
       "      <td>6.998</td>\n",
       "      <td>45.8</td>\n",
       "      <td>6.0622</td>\n",
       "      <td>3.0</td>\n",
       "      <td>222.0</td>\n",
       "      <td>18.7</td>\n",
       "      <td>394.63</td>\n",
       "      <td>2.94</td>\n",
       "      <td>33.4</td>\n",
       "    </tr>\n",
       "    <tr>\n",
       "      <td>4</td>\n",
       "      <td>0.06905</td>\n",
       "      <td>0.0</td>\n",
       "      <td>2.18</td>\n",
       "      <td>0.0</td>\n",
       "      <td>0.458</td>\n",
       "      <td>7.147</td>\n",
       "      <td>54.2</td>\n",
       "      <td>6.0622</td>\n",
       "      <td>3.0</td>\n",
       "      <td>222.0</td>\n",
       "      <td>18.7</td>\n",
       "      <td>396.90</td>\n",
       "      <td>5.33</td>\n",
       "      <td>36.2</td>\n",
       "    </tr>\n",
       "  </tbody>\n",
       "</table>\n",
       "</div>"
      ],
      "text/plain": [
       "      CRIM    ZN  INDUS  CHAS    NOX     RM   AGE     DIS  RAD    TAX  \\\n",
       "0  0.00632  18.0   2.31   0.0  0.538  6.575  65.2  4.0900  1.0  296.0   \n",
       "1  0.02731   0.0   7.07   0.0  0.469  6.421  78.9  4.9671  2.0  242.0   \n",
       "2  0.02729   0.0   7.07   0.0  0.469  7.185  61.1  4.9671  2.0  242.0   \n",
       "3  0.03237   0.0   2.18   0.0  0.458  6.998  45.8  6.0622  3.0  222.0   \n",
       "4  0.06905   0.0   2.18   0.0  0.458  7.147  54.2  6.0622  3.0  222.0   \n",
       "\n",
       "   PTRATIO       B  LSTAT  MEDV  \n",
       "0     15.3  396.90   4.98  24.0  \n",
       "1     17.8  396.90   9.14  21.6  \n",
       "2     17.8  392.83   4.03  34.7  \n",
       "3     18.7  394.63   2.94  33.4  \n",
       "4     18.7  396.90   5.33  36.2  "
      ]
     },
     "execution_count": 3,
     "metadata": {},
     "output_type": "execute_result"
    }
   ],
   "source": [
    "# check data set shape and print first five rows \n",
    "print(boston.data.shape)\n",
    "df.head()"
   ]
  },
  {
   "cell_type": "code",
   "execution_count": 4,
   "metadata": {},
   "outputs": [
    {
     "data": {
      "text/html": [
       "<div>\n",
       "<style scoped>\n",
       "    .dataframe tbody tr th:only-of-type {\n",
       "        vertical-align: middle;\n",
       "    }\n",
       "\n",
       "    .dataframe tbody tr th {\n",
       "        vertical-align: top;\n",
       "    }\n",
       "\n",
       "    .dataframe thead th {\n",
       "        text-align: right;\n",
       "    }\n",
       "</style>\n",
       "<table border=\"1\" class=\"dataframe\">\n",
       "  <thead>\n",
       "    <tr style=\"text-align: right;\">\n",
       "      <th></th>\n",
       "      <th>count</th>\n",
       "      <th>mean</th>\n",
       "      <th>std</th>\n",
       "      <th>min</th>\n",
       "      <th>25%</th>\n",
       "      <th>50%</th>\n",
       "      <th>75%</th>\n",
       "      <th>max</th>\n",
       "    </tr>\n",
       "  </thead>\n",
       "  <tbody>\n",
       "    <tr>\n",
       "      <td>CRIM</td>\n",
       "      <td>506.0</td>\n",
       "      <td>3.613524</td>\n",
       "      <td>8.601545</td>\n",
       "      <td>0.00632</td>\n",
       "      <td>0.082045</td>\n",
       "      <td>0.25651</td>\n",
       "      <td>3.677083</td>\n",
       "      <td>88.9762</td>\n",
       "    </tr>\n",
       "    <tr>\n",
       "      <td>ZN</td>\n",
       "      <td>506.0</td>\n",
       "      <td>11.363636</td>\n",
       "      <td>23.322453</td>\n",
       "      <td>0.00000</td>\n",
       "      <td>0.000000</td>\n",
       "      <td>0.00000</td>\n",
       "      <td>12.500000</td>\n",
       "      <td>100.0000</td>\n",
       "    </tr>\n",
       "    <tr>\n",
       "      <td>INDUS</td>\n",
       "      <td>506.0</td>\n",
       "      <td>11.136779</td>\n",
       "      <td>6.860353</td>\n",
       "      <td>0.46000</td>\n",
       "      <td>5.190000</td>\n",
       "      <td>9.69000</td>\n",
       "      <td>18.100000</td>\n",
       "      <td>27.7400</td>\n",
       "    </tr>\n",
       "    <tr>\n",
       "      <td>CHAS</td>\n",
       "      <td>506.0</td>\n",
       "      <td>0.069170</td>\n",
       "      <td>0.253994</td>\n",
       "      <td>0.00000</td>\n",
       "      <td>0.000000</td>\n",
       "      <td>0.00000</td>\n",
       "      <td>0.000000</td>\n",
       "      <td>1.0000</td>\n",
       "    </tr>\n",
       "    <tr>\n",
       "      <td>NOX</td>\n",
       "      <td>506.0</td>\n",
       "      <td>0.554695</td>\n",
       "      <td>0.115878</td>\n",
       "      <td>0.38500</td>\n",
       "      <td>0.449000</td>\n",
       "      <td>0.53800</td>\n",
       "      <td>0.624000</td>\n",
       "      <td>0.8710</td>\n",
       "    </tr>\n",
       "    <tr>\n",
       "      <td>RM</td>\n",
       "      <td>506.0</td>\n",
       "      <td>6.284634</td>\n",
       "      <td>0.702617</td>\n",
       "      <td>3.56100</td>\n",
       "      <td>5.885500</td>\n",
       "      <td>6.20850</td>\n",
       "      <td>6.623500</td>\n",
       "      <td>8.7800</td>\n",
       "    </tr>\n",
       "    <tr>\n",
       "      <td>AGE</td>\n",
       "      <td>506.0</td>\n",
       "      <td>68.574901</td>\n",
       "      <td>28.148861</td>\n",
       "      <td>2.90000</td>\n",
       "      <td>45.025000</td>\n",
       "      <td>77.50000</td>\n",
       "      <td>94.075000</td>\n",
       "      <td>100.0000</td>\n",
       "    </tr>\n",
       "    <tr>\n",
       "      <td>DIS</td>\n",
       "      <td>506.0</td>\n",
       "      <td>3.795043</td>\n",
       "      <td>2.105710</td>\n",
       "      <td>1.12960</td>\n",
       "      <td>2.100175</td>\n",
       "      <td>3.20745</td>\n",
       "      <td>5.188425</td>\n",
       "      <td>12.1265</td>\n",
       "    </tr>\n",
       "    <tr>\n",
       "      <td>RAD</td>\n",
       "      <td>506.0</td>\n",
       "      <td>9.549407</td>\n",
       "      <td>8.707259</td>\n",
       "      <td>1.00000</td>\n",
       "      <td>4.000000</td>\n",
       "      <td>5.00000</td>\n",
       "      <td>24.000000</td>\n",
       "      <td>24.0000</td>\n",
       "    </tr>\n",
       "    <tr>\n",
       "      <td>TAX</td>\n",
       "      <td>506.0</td>\n",
       "      <td>408.237154</td>\n",
       "      <td>168.537116</td>\n",
       "      <td>187.00000</td>\n",
       "      <td>279.000000</td>\n",
       "      <td>330.00000</td>\n",
       "      <td>666.000000</td>\n",
       "      <td>711.0000</td>\n",
       "    </tr>\n",
       "    <tr>\n",
       "      <td>PTRATIO</td>\n",
       "      <td>506.0</td>\n",
       "      <td>18.455534</td>\n",
       "      <td>2.164946</td>\n",
       "      <td>12.60000</td>\n",
       "      <td>17.400000</td>\n",
       "      <td>19.05000</td>\n",
       "      <td>20.200000</td>\n",
       "      <td>22.0000</td>\n",
       "    </tr>\n",
       "    <tr>\n",
       "      <td>B</td>\n",
       "      <td>506.0</td>\n",
       "      <td>356.674032</td>\n",
       "      <td>91.294864</td>\n",
       "      <td>0.32000</td>\n",
       "      <td>375.377500</td>\n",
       "      <td>391.44000</td>\n",
       "      <td>396.225000</td>\n",
       "      <td>396.9000</td>\n",
       "    </tr>\n",
       "    <tr>\n",
       "      <td>LSTAT</td>\n",
       "      <td>506.0</td>\n",
       "      <td>12.653063</td>\n",
       "      <td>7.141062</td>\n",
       "      <td>1.73000</td>\n",
       "      <td>6.950000</td>\n",
       "      <td>11.36000</td>\n",
       "      <td>16.955000</td>\n",
       "      <td>37.9700</td>\n",
       "    </tr>\n",
       "    <tr>\n",
       "      <td>MEDV</td>\n",
       "      <td>506.0</td>\n",
       "      <td>22.532806</td>\n",
       "      <td>9.197104</td>\n",
       "      <td>5.00000</td>\n",
       "      <td>17.025000</td>\n",
       "      <td>21.20000</td>\n",
       "      <td>25.000000</td>\n",
       "      <td>50.0000</td>\n",
       "    </tr>\n",
       "  </tbody>\n",
       "</table>\n",
       "</div>"
      ],
      "text/plain": [
       "         count        mean         std        min         25%        50%  \\\n",
       "CRIM     506.0    3.613524    8.601545    0.00632    0.082045    0.25651   \n",
       "ZN       506.0   11.363636   23.322453    0.00000    0.000000    0.00000   \n",
       "INDUS    506.0   11.136779    6.860353    0.46000    5.190000    9.69000   \n",
       "CHAS     506.0    0.069170    0.253994    0.00000    0.000000    0.00000   \n",
       "NOX      506.0    0.554695    0.115878    0.38500    0.449000    0.53800   \n",
       "RM       506.0    6.284634    0.702617    3.56100    5.885500    6.20850   \n",
       "AGE      506.0   68.574901   28.148861    2.90000   45.025000   77.50000   \n",
       "DIS      506.0    3.795043    2.105710    1.12960    2.100175    3.20745   \n",
       "RAD      506.0    9.549407    8.707259    1.00000    4.000000    5.00000   \n",
       "TAX      506.0  408.237154  168.537116  187.00000  279.000000  330.00000   \n",
       "PTRATIO  506.0   18.455534    2.164946   12.60000   17.400000   19.05000   \n",
       "B        506.0  356.674032   91.294864    0.32000  375.377500  391.44000   \n",
       "LSTAT    506.0   12.653063    7.141062    1.73000    6.950000   11.36000   \n",
       "MEDV     506.0   22.532806    9.197104    5.00000   17.025000   21.20000   \n",
       "\n",
       "                75%       max  \n",
       "CRIM       3.677083   88.9762  \n",
       "ZN        12.500000  100.0000  \n",
       "INDUS     18.100000   27.7400  \n",
       "CHAS       0.000000    1.0000  \n",
       "NOX        0.624000    0.8710  \n",
       "RM         6.623500    8.7800  \n",
       "AGE       94.075000  100.0000  \n",
       "DIS        5.188425   12.1265  \n",
       "RAD       24.000000   24.0000  \n",
       "TAX      666.000000  711.0000  \n",
       "PTRATIO   20.200000   22.0000  \n",
       "B        396.225000  396.9000  \n",
       "LSTAT     16.955000   37.9700  \n",
       "MEDV      25.000000   50.0000  "
      ]
     },
     "execution_count": 4,
     "metadata": {},
     "output_type": "execute_result"
    }
   ],
   "source": [
    "#a table of the summary statistics for all columns in the dataset\n",
    "df.describe().T"
   ]
  },
  {
   "cell_type": "code",
   "execution_count": 5,
   "metadata": {},
   "outputs": [
    {
     "name": "stdout",
     "output_type": "stream",
     "text": [
      ".. _boston_dataset:\n",
      "\n",
      "Boston house prices dataset\n",
      "---------------------------\n",
      "\n",
      "**Data Set Characteristics:**  \n",
      "\n",
      "    :Number of Instances: 506 \n",
      "\n",
      "    :Number of Attributes: 13 numeric/categorical predictive. Median Value (attribute 14) is usually the target.\n",
      "\n",
      "    :Attribute Information (in order):\n",
      "        - CRIM     per capita crime rate by town\n",
      "        - ZN       proportion of residential land zoned for lots over 25,000 sq.ft.\n",
      "        - INDUS    proportion of non-retail business acres per town\n",
      "        - CHAS     Charles River dummy variable (= 1 if tract bounds river; 0 otherwise)\n",
      "        - NOX      nitric oxides concentration (parts per 10 million)\n",
      "        - RM       average number of rooms per dwelling\n",
      "        - AGE      proportion of owner-occupied units built prior to 1940\n",
      "        - DIS      weighted distances to five Boston employment centres\n",
      "        - RAD      index of accessibility to radial highways\n",
      "        - TAX      full-value property-tax rate per $10,000\n",
      "        - PTRATIO  pupil-teacher ratio by town\n",
      "        - B        1000(Bk - 0.63)^2 where Bk is the proportion of blacks by town\n",
      "        - LSTAT    % lower status of the population\n",
      "        - MEDV     Median value of owner-occupied homes in $1000's\n",
      "\n",
      "    :Missing Attribute Values: None\n",
      "\n",
      "    :Creator: Harrison, D. and Rubinfeld, D.L.\n",
      "\n",
      "This is a copy of UCI ML housing dataset.\n",
      "https://archive.ics.uci.edu/ml/machine-learning-databases/housing/\n",
      "\n",
      "\n",
      "This dataset was taken from the StatLib library which is maintained at Carnegie Mellon University.\n",
      "\n",
      "The Boston house-price data of Harrison, D. and Rubinfeld, D.L. 'Hedonic\n",
      "prices and the demand for clean air', J. Environ. Economics & Management,\n",
      "vol.5, 81-102, 1978.   Used in Belsley, Kuh & Welsch, 'Regression diagnostics\n",
      "...', Wiley, 1980.   N.B. Various transformations are used in the table on\n",
      "pages 244-261 of the latter.\n",
      "\n",
      "The Boston house-price data has been used in many machine learning papers that address regression\n",
      "problems.   \n",
      "     \n",
      ".. topic:: References\n",
      "\n",
      "   - Belsley, Kuh & Welsch, 'Regression diagnostics: Identifying Influential Data and Sources of Collinearity', Wiley, 1980. 244-261.\n",
      "   - Quinlan,R. (1993). Combining Instance-Based and Model-Based Learning. In Proceedings on the Tenth International Conference of Machine Learning, 236-243, University of Massachusetts, Amherst. Morgan Kaufmann.\n",
      "\n"
     ]
    }
   ],
   "source": [
    "# below outines the characteristcs of the dataset and explains what each variable represents in the dataset.\n",
    "# Note - this dataset is from the 1970s and some attributes are a reflection of those times, for the purpose of the project\n",
    "# I imported the dataset as a whole but will not be considering some of the variables when doing evaluations of data subsets!\n",
    "\n",
    "print(boston.DESCR)"
   ]
  },
  {
   "cell_type": "markdown",
   "metadata": {},
   "source": [
    "#### Distribution of Median Values"
   ]
  },
  {
   "cell_type": "code",
   "execution_count": 6,
   "metadata": {},
   "outputs": [
    {
     "data": {
      "image/png": "[encoded data removed]",
      "text/plain": [
       "<Figure size 432x288 with 1 Axes>"
      ]
     },
     "metadata": {
      "needs_background": "light"
     },
     "output_type": "display_data"
    }
   ],
   "source": [
    "#below I am looking at the distribution of the target variable, MEDV\n",
    "\n",
    "sns.distplot(df[\"MEDV\"], bins=40)\n",
    "plt.show()\n"
   ]
  },
  {
   "cell_type": "markdown",
   "metadata": {},
   "source": [
    "The plot of Median Value shows a mainly normal distribution. It looks like there is some sort of price capping /banding as there seem to be a disproportionate number of properties with median value 50. \n",
    "The box plot of MEDV below appears to back up this opinion. "
   ]
  },
  {
   "cell_type": "code",
   "execution_count": 7,
   "metadata": {},
   "outputs": [
    {
     "data": {
      "text/plain": [
       "<matplotlib.axes._subplots.AxesSubplot at 0x123fda08>"
      ]
     },
     "execution_count": 7,
     "metadata": {},
     "output_type": "execute_result"
    },
    {
     "data": {
      "image/png": "[encoded data removed]",
      "text/plain": [
       "<Figure size 432x288 with 1 Axes>"
      ]
     },
     "metadata": {
      "needs_background": "light"
     },
     "output_type": "display_data"
    }
   ],
   "source": [
    "# a box plot of MEDV to look at the shape\n",
    "sns.boxplot(df.MEDV)"
   ]
  },
  {
   "cell_type": "markdown",
   "metadata": {},
   "source": [
    "#### Correlation\n",
    "I then looked at whether there was much, or any correlation between the individual dataset variables and in particular whether any strong correlations existed between target variable MEDV and other variables. \n",
    "\n",
    "I did both a correlarion heatmap for a visual display and a correlaion table. \n",
    "\n",
    "Correlation is a statistical measure of the degree to which changes to the value of one variable predict change to the value of another. A coefficient close to  1 would indicate that the two change in the same direction, e.g as one increases the other increases, as one decreases the other decreases. A value close to -1 indicates a strong negative correlation, e.g as one variable increases the other decreases. "
   ]
  },
  {
   "cell_type": "code",
   "execution_count": 8,
   "metadata": {},
   "outputs": [
    {
     "data": {
      "image/png": "[encoded data removed]",
      "text/plain": [
       "<Figure size 720x432 with 2 Axes>"
      ]
     },
     "metadata": {
      "needs_background": "light"
     },
     "output_type": "display_data"
    }
   ],
   "source": [
    "# a correlation heatmap of the dataset\n",
    "\n",
    "correlation_heatmap = df.corr().round(2)\n",
    "fig, ax = plt.subplots(figsize=(10,6))   \n",
    "sns.heatmap(correlation_heatmap, annot=True,linewidths= 1, ax=ax)\n",
    "\n",
    "plt.show()"
   ]
  },
  {
   "cell_type": "code",
   "execution_count": 9,
   "metadata": {},
   "outputs": [
    {
     "data": {
      "text/html": [
       "<div>\n",
       "<style scoped>\n",
       "    .dataframe tbody tr th:only-of-type {\n",
       "        vertical-align: middle;\n",
       "    }\n",
       "\n",
       "    .dataframe tbody tr th {\n",
       "        vertical-align: top;\n",
       "    }\n",
       "\n",
       "    .dataframe thead th {\n",
       "        text-align: right;\n",
       "    }\n",
       "</style>\n",
       "<table border=\"1\" class=\"dataframe\">\n",
       "  <thead>\n",
       "    <tr style=\"text-align: right;\">\n",
       "      <th></th>\n",
       "      <th>CRIM</th>\n",
       "      <th>ZN</th>\n",
       "      <th>INDUS</th>\n",
       "      <th>CHAS</th>\n",
       "      <th>NOX</th>\n",
       "      <th>RM</th>\n",
       "      <th>AGE</th>\n",
       "      <th>DIS</th>\n",
       "      <th>RAD</th>\n",
       "      <th>TAX</th>\n",
       "      <th>PTRATIO</th>\n",
       "      <th>B</th>\n",
       "      <th>LSTAT</th>\n",
       "      <th>MEDV</th>\n",
       "    </tr>\n",
       "  </thead>\n",
       "  <tbody>\n",
       "    <tr>\n",
       "      <td>CRIM</td>\n",
       "      <td>1.000000</td>\n",
       "      <td>-0.200469</td>\n",
       "      <td>0.406583</td>\n",
       "      <td>-0.055892</td>\n",
       "      <td>0.420972</td>\n",
       "      <td>-0.219247</td>\n",
       "      <td>0.352734</td>\n",
       "      <td>-0.379670</td>\n",
       "      <td>0.625505</td>\n",
       "      <td>0.582764</td>\n",
       "      <td>0.289946</td>\n",
       "      <td>-0.385064</td>\n",
       "      <td>0.455621</td>\n",
       "      <td>-0.388305</td>\n",
       "    </tr>\n",
       "    <tr>\n",
       "      <td>ZN</td>\n",
       "      <td>-0.200469</td>\n",
       "      <td>1.000000</td>\n",
       "      <td>-0.533828</td>\n",
       "      <td>-0.042697</td>\n",
       "      <td>-0.516604</td>\n",
       "      <td>0.311991</td>\n",
       "      <td>-0.569537</td>\n",
       "      <td>0.664408</td>\n",
       "      <td>-0.311948</td>\n",
       "      <td>-0.314563</td>\n",
       "      <td>-0.391679</td>\n",
       "      <td>0.175520</td>\n",
       "      <td>-0.412995</td>\n",
       "      <td>0.360445</td>\n",
       "    </tr>\n",
       "    <tr>\n",
       "      <td>INDUS</td>\n",
       "      <td>0.406583</td>\n",
       "      <td>-0.533828</td>\n",
       "      <td>1.000000</td>\n",
       "      <td>0.062938</td>\n",
       "      <td>0.763651</td>\n",
       "      <td>-0.391676</td>\n",
       "      <td>0.644779</td>\n",
       "      <td>-0.708027</td>\n",
       "      <td>0.595129</td>\n",
       "      <td>0.720760</td>\n",
       "      <td>0.383248</td>\n",
       "      <td>-0.356977</td>\n",
       "      <td>0.603800</td>\n",
       "      <td>-0.483725</td>\n",
       "    </tr>\n",
       "    <tr>\n",
       "      <td>CHAS</td>\n",
       "      <td>-0.055892</td>\n",
       "      <td>-0.042697</td>\n",
       "      <td>0.062938</td>\n",
       "      <td>1.000000</td>\n",
       "      <td>0.091203</td>\n",
       "      <td>0.091251</td>\n",
       "      <td>0.086518</td>\n",
       "      <td>-0.099176</td>\n",
       "      <td>-0.007368</td>\n",
       "      <td>-0.035587</td>\n",
       "      <td>-0.121515</td>\n",
       "      <td>0.048788</td>\n",
       "      <td>-0.053929</td>\n",
       "      <td>0.175260</td>\n",
       "    </tr>\n",
       "    <tr>\n",
       "      <td>NOX</td>\n",
       "      <td>0.420972</td>\n",
       "      <td>-0.516604</td>\n",
       "      <td>0.763651</td>\n",
       "      <td>0.091203</td>\n",
       "      <td>1.000000</td>\n",
       "      <td>-0.302188</td>\n",
       "      <td>0.731470</td>\n",
       "      <td>-0.769230</td>\n",
       "      <td>0.611441</td>\n",
       "      <td>0.668023</td>\n",
       "      <td>0.188933</td>\n",
       "      <td>-0.380051</td>\n",
       "      <td>0.590879</td>\n",
       "      <td>-0.427321</td>\n",
       "    </tr>\n",
       "    <tr>\n",
       "      <td>RM</td>\n",
       "      <td>-0.219247</td>\n",
       "      <td>0.311991</td>\n",
       "      <td>-0.391676</td>\n",
       "      <td>0.091251</td>\n",
       "      <td>-0.302188</td>\n",
       "      <td>1.000000</td>\n",
       "      <td>-0.240265</td>\n",
       "      <td>0.205246</td>\n",
       "      <td>-0.209847</td>\n",
       "      <td>-0.292048</td>\n",
       "      <td>-0.355501</td>\n",
       "      <td>0.128069</td>\n",
       "      <td>-0.613808</td>\n",
       "      <td>0.695360</td>\n",
       "    </tr>\n",
       "    <tr>\n",
       "      <td>AGE</td>\n",
       "      <td>0.352734</td>\n",
       "      <td>-0.569537</td>\n",
       "      <td>0.644779</td>\n",
       "      <td>0.086518</td>\n",
       "      <td>0.731470</td>\n",
       "      <td>-0.240265</td>\n",
       "      <td>1.000000</td>\n",
       "      <td>-0.747881</td>\n",
       "      <td>0.456022</td>\n",
       "      <td>0.506456</td>\n",
       "      <td>0.261515</td>\n",
       "      <td>-0.273534</td>\n",
       "      <td>0.602339</td>\n",
       "      <td>-0.376955</td>\n",
       "    </tr>\n",
       "    <tr>\n",
       "      <td>DIS</td>\n",
       "      <td>-0.379670</td>\n",
       "      <td>0.664408</td>\n",
       "      <td>-0.708027</td>\n",
       "      <td>-0.099176</td>\n",
       "      <td>-0.769230</td>\n",
       "      <td>0.205246</td>\n",
       "      <td>-0.747881</td>\n",
       "      <td>1.000000</td>\n",
       "      <td>-0.494588</td>\n",
       "      <td>-0.534432</td>\n",
       "      <td>-0.232471</td>\n",
       "      <td>0.291512</td>\n",
       "      <td>-0.496996</td>\n",
       "      <td>0.249929</td>\n",
       "    </tr>\n",
       "    <tr>\n",
       "      <td>RAD</td>\n",
       "      <td>0.625505</td>\n",
       "      <td>-0.311948</td>\n",
       "      <td>0.595129</td>\n",
       "      <td>-0.007368</td>\n",
       "      <td>0.611441</td>\n",
       "      <td>-0.209847</td>\n",
       "      <td>0.456022</td>\n",
       "      <td>-0.494588</td>\n",
       "      <td>1.000000</td>\n",
       "      <td>0.910228</td>\n",
       "      <td>0.464741</td>\n",
       "      <td>-0.444413</td>\n",
       "      <td>0.488676</td>\n",
       "      <td>-0.381626</td>\n",
       "    </tr>\n",
       "    <tr>\n",
       "      <td>TAX</td>\n",
       "      <td>0.582764</td>\n",
       "      <td>-0.314563</td>\n",
       "      <td>0.720760</td>\n",
       "      <td>-0.035587</td>\n",
       "      <td>0.668023</td>\n",
       "      <td>-0.292048</td>\n",
       "      <td>0.506456</td>\n",
       "      <td>-0.534432</td>\n",
       "      <td>0.910228</td>\n",
       "      <td>1.000000</td>\n",
       "      <td>0.460853</td>\n",
       "      <td>-0.441808</td>\n",
       "      <td>0.543993</td>\n",
       "      <td>-0.468536</td>\n",
       "    </tr>\n",
       "    <tr>\n",
       "      <td>PTRATIO</td>\n",
       "      <td>0.289946</td>\n",
       "      <td>-0.391679</td>\n",
       "      <td>0.383248</td>\n",
       "      <td>-0.121515</td>\n",
       "      <td>0.188933</td>\n",
       "      <td>-0.355501</td>\n",
       "      <td>0.261515</td>\n",
       "      <td>-0.232471</td>\n",
       "      <td>0.464741</td>\n",
       "      <td>0.460853</td>\n",
       "      <td>1.000000</td>\n",
       "      <td>-0.177383</td>\n",
       "      <td>0.374044</td>\n",
       "      <td>-0.507787</td>\n",
       "    </tr>\n",
       "    <tr>\n",
       "      <td>B</td>\n",
       "      <td>-0.385064</td>\n",
       "      <td>0.175520</td>\n",
       "      <td>-0.356977</td>\n",
       "      <td>0.048788</td>\n",
       "      <td>-0.380051</td>\n",
       "      <td>0.128069</td>\n",
       "      <td>-0.273534</td>\n",
       "      <td>0.291512</td>\n",
       "      <td>-0.444413</td>\n",
       "      <td>-0.441808</td>\n",
       "      <td>-0.177383</td>\n",
       "      <td>1.000000</td>\n",
       "      <td>-0.366087</td>\n",
       "      <td>0.333461</td>\n",
       "    </tr>\n",
       "    <tr>\n",
       "      <td>LSTAT</td>\n",
       "      <td>0.455621</td>\n",
       "      <td>-0.412995</td>\n",
       "      <td>0.603800</td>\n",
       "      <td>-0.053929</td>\n",
       "      <td>0.590879</td>\n",
       "      <td>-0.613808</td>\n",
       "      <td>0.602339</td>\n",
       "      <td>-0.496996</td>\n",
       "      <td>0.488676</td>\n",
       "      <td>0.543993</td>\n",
       "      <td>0.374044</td>\n",
       "      <td>-0.366087</td>\n",
       "      <td>1.000000</td>\n",
       "      <td>-0.737663</td>\n",
       "    </tr>\n",
       "    <tr>\n",
       "      <td>MEDV</td>\n",
       "      <td>-0.388305</td>\n",
       "      <td>0.360445</td>\n",
       "      <td>-0.483725</td>\n",
       "      <td>0.175260</td>\n",
       "      <td>-0.427321</td>\n",
       "      <td>0.695360</td>\n",
       "      <td>-0.376955</td>\n",
       "      <td>0.249929</td>\n",
       "      <td>-0.381626</td>\n",
       "      <td>-0.468536</td>\n",
       "      <td>-0.507787</td>\n",
       "      <td>0.333461</td>\n",
       "      <td>-0.737663</td>\n",
       "      <td>1.000000</td>\n",
       "    </tr>\n",
       "  </tbody>\n",
       "</table>\n",
       "</div>"
      ],
      "text/plain": [
       "             CRIM        ZN     INDUS      CHAS       NOX        RM       AGE  \\\n",
       "CRIM     1.000000 -0.200469  0.406583 -0.055892  0.420972 -0.219247  0.352734   \n",
       "ZN      -0.200469  1.000000 -0.533828 -0.042697 -0.516604  0.311991 -0.569537   \n",
       "INDUS    0.406583 -0.533828  1.000000  0.062938  0.763651 -0.391676  0.644779   \n",
       "CHAS    -0.055892 -0.042697  0.062938  1.000000  0.091203  0.091251  0.086518   \n",
       "NOX      0.420972 -0.516604  0.763651  0.091203  1.000000 -0.302188  0.731470   \n",
       "RM      -0.219247  0.311991 -0.391676  0.091251 -0.302188  1.000000 -0.240265   \n",
       "AGE      0.352734 -0.569537  0.644779  0.086518  0.731470 -0.240265  1.000000   \n",
       "DIS     -0.379670  0.664408 -0.708027 -0.099176 -0.769230  0.205246 -0.747881   \n",
       "RAD      0.625505 -0.311948  0.595129 -0.007368  0.611441 -0.209847  0.456022   \n",
       "TAX      0.582764 -0.314563  0.720760 -0.035587  0.668023 -0.292048  0.506456   \n",
       "PTRATIO  0.289946 -0.391679  0.383248 -0.121515  0.188933 -0.355501  0.261515   \n",
       "B       -0.385064  0.175520 -0.356977  0.048788 -0.380051  0.128069 -0.273534   \n",
       "LSTAT    0.455621 -0.412995  0.603800 -0.053929  0.590879 -0.613808  0.602339   \n",
       "MEDV    -0.388305  0.360445 -0.483725  0.175260 -0.427321  0.695360 -0.376955   \n",
       "\n",
       "              DIS       RAD       TAX   PTRATIO         B     LSTAT      MEDV  \n",
       "CRIM    -0.379670  0.625505  0.582764  0.289946 -0.385064  0.455621 -0.388305  \n",
       "ZN       0.664408 -0.311948 -0.314563 -0.391679  0.175520 -0.412995  0.360445  \n",
       "INDUS   -0.708027  0.595129  0.720760  0.383248 -0.356977  0.603800 -0.483725  \n",
       "CHAS    -0.099176 -0.007368 -0.035587 -0.121515  0.048788 -0.053929  0.175260  \n",
       "NOX     -0.769230  0.611441  0.668023  0.188933 -0.380051  0.590879 -0.427321  \n",
       "RM       0.205246 -0.209847 -0.292048 -0.355501  0.128069 -0.613808  0.695360  \n",
       "AGE     -0.747881  0.456022  0.506456  0.261515 -0.273534  0.602339 -0.376955  \n",
       "DIS      1.000000 -0.494588 -0.534432 -0.232471  0.291512 -0.496996  0.249929  \n",
       "RAD     -0.494588  1.000000  0.910228  0.464741 -0.444413  0.488676 -0.381626  \n",
       "TAX     -0.534432  0.910228  1.000000  0.460853 -0.441808  0.543993 -0.468536  \n",
       "PTRATIO -0.232471  0.464741  0.460853  1.000000 -0.177383  0.374044 -0.507787  \n",
       "B        0.291512 -0.444413 -0.441808 -0.177383  1.000000 -0.366087  0.333461  \n",
       "LSTAT   -0.496996  0.488676  0.543993  0.374044 -0.366087  1.000000 -0.737663  \n",
       "MEDV     0.249929 -0.381626 -0.468536 -0.507787  0.333461 -0.737663  1.000000  "
      ]
     },
     "execution_count": 9,
     "metadata": {},
     "output_type": "execute_result"
    }
   ],
   "source": [
    "# correlation table for the dataset\n",
    "df.corr()"
   ]
  },
  {
   "cell_type": "markdown",
   "metadata": {},
   "source": [
    "Looking at the correlation heatmap/table the strongest correlations with MEDV are a positive correlation with RM, average number of rooms per dwelling and a negative correlation with LSTAT % lower status of the population.\n",
    "This would make sense as one would imagine that house prices are higher when they are larger and also that they would be lower in poorer areas. This is supported by the negative correlation between LSTAT and RM, the higher the % of 'lower status' the lower the number of rooms. There is also a negative correlation with PTRATIO pupil-teacher ratio by town. It appears that the higher the PTRATIO the lower the MEDV This could imply that areas of lower socio economic status would have higher PTRATIO, it could be attributed to funding or even orevalence of orivate schools in more affluent areas. The posive correlation between LSTAT and PTRATIO could support this observation. "
   ]
  },
  {
   "cell_type": "markdown",
   "metadata": {},
   "source": [
    "#### Distribution plots\n",
    "Below are distribution plots for each variable. Some appear skewed, CRIM, ZN, AGE for example. RM and MEDV are normally distributed.  As CHAS is categorical the distribution shows merely the counts for each value, 1 or 0, worth noting that there are a far greated number at 0. "
   ]
  },
  {
   "cell_type": "code",
   "execution_count": 10,
   "metadata": {},
   "outputs": [
    {
     "data": {
      "image/png": "[encoded data removed]",
      "text/plain": [
       "<Figure size 1080x720 with 16 Axes>"
      ]
     },
     "metadata": {
      "needs_background": "light"
     },
     "output_type": "display_data"
    }
   ],
   "source": [
    "df.hist(bins=10, figsize=(15,10), grid=False)\n",
    "plt.show()"
   ]
  },
  {
   "cell_type": "markdown",
   "metadata": {},
   "source": [
    "## Section Three - Inferential Statistics"
   ]
  },
  {
   "cell_type": "markdown",
   "metadata": {},
   "source": [
    "Inferential statistics looks at the sample and infers trends about the larger population from which the sample was drawn. Where populations are large it would be impossible to get data for the entire population so inferences are made based on the statistical sample. The project brief was to analyse whether there was a sigificant difference in median house prices between houses along the Charles river and those that aren't. \n",
    "\n",
    "To do this I decided to do a two sample t test and create two subsets to do a t test to see whether the mean of median values is the same for houses bordering the river and houses not near the river. The null hypothesis I am testing being that there is no difference in the average median value of houses bordering the river and houses not near the river.\n",
    "\n",
    "The alternative hypothesis being that there is a difference in median values of houses bordering the river and houses not near the river."
   ]
  },
  {
   "cell_type": "code",
   "execution_count": 11,
   "metadata": {},
   "outputs": [
    {
     "name": "stdout",
     "output_type": "stream",
     "text": [
      "     index     CRIM    ZN  INDUS  CHAS    NOX     RM   AGE     DIS  RAD  \\\n",
      "0        0  0.00632  18.0   2.31   0.0  0.538  6.575  65.2  4.0900  1.0   \n",
      "1        1  0.02731   0.0   7.07   0.0  0.469  6.421  78.9  4.9671  2.0   \n",
      "2        2  0.02729   0.0   7.07   0.0  0.469  7.185  61.1  4.9671  2.0   \n",
      "3        3  0.03237   0.0   2.18   0.0  0.458  6.998  45.8  6.0622  3.0   \n",
      "4        4  0.06905   0.0   2.18   0.0  0.458  7.147  54.2  6.0622  3.0   \n",
      "..     ...      ...   ...    ...   ...    ...    ...   ...     ...  ...   \n",
      "466    501  0.06263   0.0  11.93   0.0  0.573  6.593  69.1  2.4786  1.0   \n",
      "467    502  0.04527   0.0  11.93   0.0  0.573  6.120  76.7  2.2875  1.0   \n",
      "468    503  0.06076   0.0  11.93   0.0  0.573  6.976  91.0  2.1675  1.0   \n",
      "469    504  0.10959   0.0  11.93   0.0  0.573  6.794  89.3  2.3889  1.0   \n",
      "470    505  0.04741   0.0  11.93   0.0  0.573  6.030  80.8  2.5050  1.0   \n",
      "\n",
      "       TAX  PTRATIO       B  LSTAT  MEDV  \n",
      "0    296.0     15.3  396.90   4.98  24.0  \n",
      "1    242.0     17.8  396.90   9.14  21.6  \n",
      "2    242.0     17.8  392.83   4.03  34.7  \n",
      "3    222.0     18.7  394.63   2.94  33.4  \n",
      "4    222.0     18.7  396.90   5.33  36.2  \n",
      "..     ...      ...     ...    ...   ...  \n",
      "466  273.0     21.0  391.99   9.67  22.4  \n",
      "467  273.0     21.0  396.90   9.08  20.6  \n",
      "468  273.0     21.0  396.90   5.64  23.9  \n",
      "469  273.0     21.0  393.45   6.48  22.0  \n",
      "470  273.0     21.0  396.90   7.88  11.9  \n",
      "\n",
      "[471 rows x 15 columns]\n",
      "t test result for CHAS:   Ttest_indResult(statistic=3.996437466090509, pvalue=7.390623170519905e-05)\n",
      "t test result for CHAS, no 50k values included:   Ttest_indResult(statistic=0.6501252090104075, pvalue=0.5159117366976027)\n"
     ]
    }
   ],
   "source": [
    "# create two subsets to do a t test dfnear, houses bordering the river, dffar houses away from the river\n",
    "\n",
    "# houses bordering the river\n",
    "dfnear =  df[(df['CHAS'] == 1.0)]\n",
    "dfnear.reset_index(inplace= True)\n",
    "#print ( dfnear)\n",
    "\n",
    "#houses bordering the river with values of 50k removed\n",
    "dfnear2 =  df[(df['CHAS'] == 1.0)]\n",
    "dfnearno_out = dfnear2[(dfnear2['MEDV']<40)]\n",
    "#print (dfnearno_out)\n",
    "\n",
    "#houses away from the river\n",
    "dffar =  df[(df['CHAS'] == 0.0)]\n",
    "dffar.reset_index(inplace= True)\n",
    "print(dffar)\n",
    "\n",
    "# t test houses near and houses away from river\n",
    "from scipy.stats import ttest_ind\n",
    "n =dfnear['MEDV']\n",
    "f =dffar['MEDV']\n",
    "result = ss.ttest_ind(n,f)\n",
    "print('t test result for CHAS:  ', result)\n",
    "# result obtained causes me to reject the hypothesis\n",
    "n_noout = dfnearno_out['MEDV']\n",
    "\n",
    "# t test houses near the river excluding values of 50 and houses away from river\n",
    "from scipy.stats import ttest_ind\n",
    "dfnearno_out['MEDV']\n",
    "f =dffar['MEDV']\n",
    "result = ss.ttest_ind(n_noout,f)\n",
    "print('t test result for CHAS, no 50k values included:  ', result)\n"
   ]
  },
  {
   "cell_type": "markdown",
   "metadata": {},
   "source": [
    "The initial result obtained causes me to reject the null hypothesis and conclude that the mean of median value for houses along the river is not equal to the mean of median values of houses away from the river. However, below I took a further look at the two subsets of data for CHAS. Looking at the distributions I am not convinced that the t test is of any value as I don't feel that the data follows the required conitions for being approximately normal [2]. The sample away from the river is OK but those near the river are a appear to have a distribution with outliers, this appears to be mainly the the 'capped' 50k values. \n",
    "\n",
    "Having reviewed the plots I repeated the t test, this time removing values of 50k. The resulting p value of 0.51 would mean that 1 cannot conclude that a significant difference exists. \n",
    "However I am sticking with the original rejection on the basis that in this instance removal of outliers is not correct as the outliers are capped values so in all liklihood are 50 and above and in the sample size represent 20% of the total sample so are not insignificant. \n",
    "\n",
    "\n"
   ]
  },
  {
   "cell_type": "code",
   "execution_count": 12,
   "metadata": {},
   "outputs": [
    {
     "data": {
      "image/png": "[encoded data removed]",
      "text/plain": [
       "<Figure size 432x288 with 1 Axes>"
      ]
     },
     "metadata": {
      "needs_background": "light"
     },
     "output_type": "display_data"
    },
    {
     "data": {
      "image/png": "[encoded data removed]",
      "text/plain": [
       "<Figure size 432x288 with 1 Axes>"
      ]
     },
     "metadata": {
      "needs_background": "light"
     },
     "output_type": "display_data"
    },
    {
     "data": {
      "image/png": "[encoded data removed]",
      "text/plain": [
       "<Figure size 432x288 with 1 Axes>"
      ]
     },
     "metadata": {
      "needs_background": "light"
     },
     "output_type": "display_data"
    },
    {
     "data": {
      "image/png": "[encoded data removed]",
      "text/plain": [
       "<Figure size 432x288 with 1 Axes>"
      ]
     },
     "metadata": {
      "needs_background": "light"
     },
     "output_type": "display_data"
    },
    {
     "data": {
      "image/png": "[encoded data removed]",
      "text/plain": [
       "<Figure size 432x288 with 1 Axes>"
      ]
     },
     "metadata": {
      "needs_background": "light"
     },
     "output_type": "display_data"
    },
    {
     "data": {
      "image/png": "[encoded data removed]",
      "text/plain": [
       "<Figure size 432x288 with 1 Axes>"
      ]
     },
     "metadata": {
      "needs_background": "light"
     },
     "output_type": "display_data"
    }
   ],
   "source": [
    "# seaborn distribution plots \n",
    "\n",
    "sns.distplot(dfnear[\"MEDV\"], bins=10).set_title (\"MEDV Distribution where houses near river\")\n",
    "plt.show()\n",
    "sns.distplot(dffar[\"MEDV\"], bins=10).set_title (\"MEDV Distribution where houses away fron river\")\n",
    "plt.show()\n",
    "sns.distplot(dfnearno_out[\"MEDV\"], bins=10).set_title (\"MEDV Distribution where houses near river no 50k values\")\n",
    "plt.show()\n",
    "\n",
    "#box plot with stripplot overlaid to show data points\n",
    "df4 = pd.DataFrame(data = dfnear, columns = [ 'MEDV'] )\n",
    "sns.boxplot(x=\"variable\", y=\"value\", data= pd.melt(df4), palette=\"bright\").set_title(\"House values near River \")\n",
    "sns.stripplot(x=\"variable\", y=\"value\", data= pd.melt(df4), palette=\"dark\").set_title(\"House values near River \")\n",
    "plt.ylabel('Median house cost')\n",
    "plt.xlabel('')\n",
    "plt.show()\n",
    "\n",
    "#box plot with stripplot overlaid to show data points\n",
    "df5 = pd.DataFrame(data = dffar, columns = [ 'MEDV'] )\n",
    "sns.stripplot (x=\"variable\", y=\"value\", data= pd.melt(df5), palette=\"dark\").set_title(\"House values away from River \")\n",
    "sns.boxplot(x=\"variable\", y=\"value\", data= pd.melt(df5), palette=\"bright\").set_title(\"House values away from River \")\n",
    "plt.ylabel('Median house cost')\n",
    "plt.xlabel('')\n",
    "plt.show()\n",
    "\n",
    "#box plot with stripplot overlaid to show data points\n",
    "df6 = pd.DataFrame(data = dfnearno_out, columns = [ 'MEDV'] )\n",
    "sns.boxplot(x=\"variable\", y=\"value\", data= pd.melt(df6), palette=\"bright\").set_title(\"House values near River no 50k \")\n",
    "sns.stripplot(x=\"variable\", y=\"value\", data= pd.melt(df6), palette=\"dark\").set_title(\"House values near River no 50k \")\n",
    "plt.ylabel('Median house cost')\n",
    "plt.xlabel('')\n",
    "plt.show()"
   ]
  },
  {
   "cell_type": "markdown",
   "metadata": {},
   "source": [
    "## Section four - predictive statistics"
   ]
  },
  {
   "cell_type": "markdown",
   "metadata": {},
   "source": [
    "The brief for this section of the project was to use Keras to build a neural network that could predict the median house price (MEDV) based on the other values in the dataset. There were no other restrictions and I decided to take the following approach. \n",
    "* build a neural network and train on all variables, \n",
    "* look at some pre processing of data and again train on all variables.\n",
    "* Reduce the number of inputs and repeat the above approach."
   ]
  },
  {
   "cell_type": "markdown",
   "metadata": {},
   "source": [
    "Select all variables as inputs and MEDV as output"
   ]
  },
  {
   "cell_type": "code",
   "execution_count": 30,
   "metadata": {},
   "outputs": [],
   "source": [
    "x = df.iloc[:,0:13]\n",
    "y = df.iloc[:,13]\n"
   ]
  },
  {
   "cell_type": "markdown",
   "metadata": {},
   "source": [
    "### Build neural network model\n",
    "the neural network I built is a sequential model where layers were added one at a time. \n",
    "the model layers "
   ]
  },
  {
   "cell_type": "code",
   "execution_count": 32,
   "metadata": {},
   "outputs": [],
   "source": [
    "from sklearn.model_selection import train_test_split \n",
    "from keras import models\n",
    "from keras import layers\n",
    "from keras.models import Sequential\n",
    "from keras.layers import Dense, Activation\n",
    "\n",
    "m = models.Sequential()\n",
    "m.add(layers.Dense(64, activation='relu', input_dim =13))\n",
    "m.add(layers.Dense(64, activation='relu'))\n",
    "m.add(Dense(1,kernel_initializer='normal',activation='linear',use_bias=False))\n",
    "m.compile(loss='mse', optimizer='adam',metrics=['accuracy'])\n",
    "    "
   ]
  },
  {
   "cell_type": "code",
   "execution_count": null,
   "metadata": {},
   "outputs": [
    {
     "name": "stdout",
     "output_type": "stream",
     "text": [
      "Epoch 1/1000\n",
      "404/404 [==============================] - 1s 2ms/step - loss: 1249.8640 - accuracy: 0.0000e+00\n",
      "Epoch 2/1000\n",
      "404/404 [==============================] - 0s 30us/step - loss: 822.3698 - accuracy: 0.0000e+00\n",
      "Epoch 3/1000\n",
      "404/404 [==============================] - 0s 114us/step - loss: 503.6462 - accuracy: 0.0000e+00\n",
      "Epoch 4/1000\n",
      "404/404 [==============================] - 0s 30us/step - loss: 287.8795 - accuracy: 0.0025\n",
      "Epoch 5/1000\n",
      "404/404 [==============================] - 0s 599us/step - loss: 160.6410 - accuracy: 0.0000e+00\n",
      "Epoch 6/1000\n",
      "404/404 [==============================] - 0s 92us/step - loss: 105.6604 - accuracy: 0.0050\n",
      "Epoch 7/1000\n",
      "404/404 [==============================] - 0s 27us/step - loss: 106.4770 - accuracy: 0.0025\n",
      "Epoch 8/1000\n",
      "404/404 [==============================] - 0s 510us/step - loss: 128.8855 - accuracy: 0.0099\n",
      "Epoch 9/1000\n",
      "404/404 [==============================] - 0s 201us/step - loss: 148.7922 - accuracy: 0.0074\n",
      "Epoch 10/1000\n",
      "404/404 [==============================] - 0s 74us/step - loss: 152.1271 - accuracy: 0.0025\n",
      "Epoch 11/1000\n",
      "404/404 [==============================] - 0s 27us/step - loss: 138.7466 - accuracy: 0.0025\n",
      "Epoch 12/1000\n",
      "404/404 [==============================] - 0s 30us/step - loss: 116.2092 - accuracy: 0.0025\n",
      "Epoch 13/1000\n",
      "404/404 [==============================] - 0s 52us/step - loss: 93.6074 - accuracy: 0.0025\n",
      "Epoch 14/1000\n",
      "404/404 [==============================] - 0s 30us/step - loss: 76.9176 - accuracy: 0.0025\n",
      "Epoch 15/1000\n",
      "404/404 [==============================] - 0s 745us/step - loss: 68.1770 - accuracy: 0.0149\n",
      "Epoch 16/1000\n",
      "404/404 [==============================] - 0s 173us/step - loss: 66.2752 - accuracy: 0.0000e+00\n",
      "Epoch 17/1000\n",
      "404/404 [==============================] - 0s 35us/step - loss: 68.3233 - accuracy: 0.0099\n",
      "Epoch 18/1000\n",
      "404/404 [==============================] - 0s 193us/step - loss: 70.8891 - accuracy: 0.0099\n",
      "Epoch 19/1000\n",
      "404/404 [==============================] - 0s 572us/step - loss: 72.7355 - accuracy: 0.0074\n",
      "Epoch 20/1000\n",
      "404/404 [==============================] - 0s 106us/step - loss: 72.9146 - accuracy: 0.0074\n",
      "Epoch 21/1000\n",
      "404/404 [==============================] - 0s 27us/step - loss: 70.9996 - accuracy: 0.0050\n",
      "Epoch 22/1000\n",
      "404/404 [==============================] - 0s 59us/step - loss: 68.4574 - accuracy: 0.0025\n",
      "Epoch 23/1000\n",
      "404/404 [==============================] - 0s 30us/step - loss: 65.9002 - accuracy: 0.0099\n",
      "Epoch 24/1000\n",
      "404/404 [==============================] - 0s 50us/step - loss: 63.5288 - accuracy: 0.0149\n",
      "Epoch 25/1000\n",
      "404/404 [==============================] - 0s 458us/step - loss: 63.1520 - accuracy: 0.0074\n",
      "Epoch 26/1000\n",
      "404/404 [==============================] - 0s 881us/step - loss: 62.7879 - accuracy: 0.0025\n",
      "Epoch 27/1000\n",
      "404/404 [==============================] - 0s 210us/step - loss: 62.7987 - accuracy: 0.0074\n",
      "Epoch 28/1000\n",
      "404/404 [==============================] - 0s 27us/step - loss: 62.5116 - accuracy: 0.0050\n",
      "Epoch 29/1000\n",
      "404/404 [==============================] - 0s 27us/step - loss: 61.8393 - accuracy: 0.0074\n",
      "Epoch 30/1000\n",
      "404/404 [==============================] - 0s 453us/step - loss: 61.1450 - accuracy: 0.0074\n",
      "Epoch 31/1000\n",
      "404/404 [==============================] - 0s 89us/step - loss: 60.4434 - accuracy: 0.0099\n",
      "Epoch 32/1000\n",
      "404/404 [==============================] - 0s 35us/step - loss: 59.9787 - accuracy: 0.0074\n",
      "Epoch 33/1000\n",
      "404/404 [==============================] - 0s 114us/step - loss: 59.7531 - accuracy: 0.0099\n",
      "Epoch 34/1000\n",
      "404/404 [==============================] - 0s 421us/step - loss: 59.4782 - accuracy: 0.0074\n",
      "Epoch 35/1000\n",
      "404/404 [==============================] - 0s 87us/step - loss: 59.3043 - accuracy: 0.0099\n",
      "Epoch 36/1000\n",
      "404/404 [==============================] - 0s 201us/step - loss: 58.9618 - accuracy: 0.0099\n",
      "Epoch 37/1000\n",
      "404/404 [==============================] - 0s 72us/step - loss: 58.6331 - accuracy: 0.0074\n",
      "Epoch 38/1000\n",
      "404/404 [==============================] - 0s 94us/step - loss: 58.2701 - accuracy: 0.0074\n",
      "Epoch 39/1000\n",
      "404/404 [==============================] - 0s 119us/step - loss: 58.0206 - accuracy: 0.0050\n",
      "Epoch 40/1000\n",
      "404/404 [==============================] - 0s 183us/step - loss: 57.8256 - accuracy: 0.0050\n",
      "Epoch 41/1000\n",
      "404/404 [==============================] - 0s 446us/step - loss: 57.6412 - accuracy: 0.0050\n",
      "Epoch 42/1000\n",
      "404/404 [==============================] - 0s 27us/step - loss: 57.4442 - accuracy: 0.0050\n",
      "Epoch 43/1000\n",
      "404/404 [==============================] - 0s 37us/step - loss: 57.2650 - accuracy: 0.0050\n",
      "Epoch 44/1000\n",
      "404/404 [==============================] - 0s 428us/step - loss: 57.0534 - accuracy: 0.0050\n",
      "Epoch 45/1000\n",
      "404/404 [==============================] - 0s 27us/step - loss: 56.8122 - accuracy: 0.0074\n",
      "Epoch 46/1000\n",
      "404/404 [==============================] - 0s 27us/step - loss: 56.5921 - accuracy: 0.0074\n",
      "Epoch 47/1000\n",
      "404/404 [==============================] - 0s 45us/step - loss: 56.4154 - accuracy: 0.0050\n",
      "Epoch 48/1000\n",
      "404/404 [==============================] - 0s 27us/step - loss: 56.2988 - accuracy: 0.0074\n",
      "Epoch 49/1000\n",
      "404/404 [==============================] - 0s 384us/step - loss: 56.1522 - accuracy: 0.0050\n",
      "Epoch 50/1000\n",
      "404/404 [==============================] - 0s 574us/step - loss: 55.9478 - accuracy: 0.0025\n",
      "Epoch 51/1000\n",
      "404/404 [==============================] - 0s 223us/step - loss: 55.7480 - accuracy: 0.0050\n",
      "Epoch 52/1000\n",
      "404/404 [==============================] - 0s 47us/step - loss: 55.5502 - accuracy: 0.0050\n",
      "Epoch 53/1000\n",
      "404/404 [==============================] - 0s 597us/step - loss: 55.3944 - accuracy: 0.0025\n",
      "Epoch 54/1000\n",
      "404/404 [==============================] - 0s 542us/step - loss: 55.2446 - accuracy: 0.0025\n",
      "Epoch 55/1000\n",
      "404/404 [==============================] - 0s 54us/step - loss: 55.0697 - accuracy: 0.0025\n",
      "Epoch 56/1000\n",
      "404/404 [==============================] - 0s 67us/step - loss: 54.9501 - accuracy: 0.0025\n",
      "Epoch 57/1000\n",
      "404/404 [==============================] - 0s 94us/step - loss: 54.7870 - accuracy: 0.0025\n",
      "Epoch 58/1000\n",
      "404/404 [==============================] - 0s 77us/step - loss: 54.6302 - accuracy: 0.0025\n",
      "Epoch 59/1000\n",
      "404/404 [==============================] - 0s 111us/step - loss: 54.4853 - accuracy: 0.0025\n",
      "Epoch 60/1000\n",
      "404/404 [==============================] - 0s 114us/step - loss: 54.3260 - accuracy: 0.0000e+00\n",
      "Epoch 61/1000\n",
      "404/404 [==============================] - 0s 131us/step - loss: 54.1882 - accuracy: 0.0000e+00\n",
      "Epoch 62/1000\n",
      "404/404 [==============================] - 0s 64us/step - loss: 54.0851 - accuracy: 0.0000e+00\n",
      "Epoch 63/1000\n",
      "404/404 [==============================] - 0s 89us/step - loss: 53.9330 - accuracy: 0.0000e+00\n",
      "Epoch 64/1000\n",
      "404/404 [==============================] - 0s 82us/step - loss: 53.7961 - accuracy: 0.0000e+00\n",
      "Epoch 65/1000\n",
      "404/404 [==============================] - 0s 62us/step - loss: 53.7032 - accuracy: 0.0000e+00\n",
      "Epoch 66/1000\n",
      "404/404 [==============================] - 0s 111us/step - loss: 53.5259 - accuracy: 0.0000e+00\n",
      "Epoch 67/1000\n",
      "404/404 [==============================] - 0s 47us/step - loss: 53.4433 - accuracy: 0.0000e+00\n",
      "Epoch 68/1000\n",
      "404/404 [==============================] - 0s 114us/step - loss: 53.3266 - accuracy: 0.0000e+00\n",
      "Epoch 69/1000\n",
      "404/404 [==============================] - 0s 40us/step - loss: 53.2122 - accuracy: 0.0000e+00\n",
      "Epoch 70/1000\n",
      "404/404 [==============================] - 0s 45us/step - loss: 53.0756 - accuracy: 0.0000e+00\n",
      "Epoch 71/1000\n",
      "404/404 [==============================] - 0s 32us/step - loss: 52.9420 - accuracy: 0.0000e+00\n",
      "Epoch 72/1000\n",
      "404/404 [==============================] - 0s 111us/step - loss: 52.8370 - accuracy: 0.0000e+00\n",
      "Epoch 73/1000\n",
      "404/404 [==============================] - 0s 1ms/step - loss: 52.7469 - accuracy: 0.0000e+00\n",
      "Epoch 74/1000\n",
      "404/404 [==============================] - 0s 47us/step - loss: 52.5882 - accuracy: 0.0000e+00\n",
      "Epoch 75/1000\n",
      "404/404 [==============================] - 0s 27us/step - loss: 52.5146 - accuracy: 0.0000e+00\n",
      "Epoch 76/1000\n",
      "404/404 [==============================] - 0s 30us/step - loss: 52.3961 - accuracy: 0.0000e+00\n",
      "Epoch 77/1000\n"
     ]
    },
    {
     "name": "stdout",
     "output_type": "stream",
     "text": [
      "404/404 [==============================] - 0s 314us/step - loss: 52.2813 - accuracy: 0.0000e+00\n",
      "Epoch 78/1000\n",
      "404/404 [==============================] - 0s 183us/step - loss: 52.1701 - accuracy: 0.0000e+00\n",
      "Epoch 79/1000\n",
      "404/404 [==============================] - 0s 30us/step - loss: 52.0658 - accuracy: 0.0000e+00\n",
      "Epoch 80/1000\n",
      "404/404 [==============================] - 0s 37us/step - loss: 52.0034 - accuracy: 0.0000e+00\n",
      "Epoch 81/1000\n",
      "404/404 [==============================] - 0s 27us/step - loss: 51.8591 - accuracy: 0.0000e+00\n",
      "Epoch 82/1000\n",
      "404/404 [==============================] - 0s 32us/step - loss: 51.7988 - accuracy: 0.0000e+00\n",
      "Epoch 83/1000\n",
      "404/404 [==============================] - 0s 27us/step - loss: 51.6869 - accuracy: 0.0000e+00\n",
      "Epoch 84/1000\n",
      "404/404 [==============================] - 0s 30us/step - loss: 51.5691 - accuracy: 0.0000e+00\n",
      "Epoch 85/1000\n",
      "404/404 [==============================] - 0s 27us/step - loss: 51.4680 - accuracy: 0.0000e+00\n",
      "Epoch 86/1000\n",
      "404/404 [==============================] - 0s 27us/step - loss: 51.3676 - accuracy: 0.0000e+00\n",
      "Epoch 87/1000\n",
      "404/404 [==============================] - 0s 114us/step - loss: 51.2595 - accuracy: 0.0000e+00\n",
      "Epoch 88/1000\n",
      "404/404 [==============================] - 0s 730us/step - loss: 51.1256 - accuracy: 0.0000e+00\n",
      "Epoch 89/1000\n",
      "404/404 [==============================] - 0s 540us/step - loss: 51.0255 - accuracy: 0.0025\n",
      "Epoch 90/1000\n",
      "404/404 [==============================] - 0s 37us/step - loss: 50.9197 - accuracy: 0.0025\n",
      "Epoch 91/1000\n",
      "404/404 [==============================] - 0s 27us/step - loss: 50.7755 - accuracy: 0.0025\n",
      "Epoch 92/1000\n",
      "404/404 [==============================] - 0s 25us/step - loss: 50.6427 - accuracy: 0.0000e+00\n",
      "Epoch 93/1000\n",
      "404/404 [==============================] - 0s 30us/step - loss: 50.5313 - accuracy: 0.0000e+00\n",
      "Epoch 94/1000\n",
      "404/404 [==============================] - 0s 72us/step - loss: 50.3997 - accuracy: 0.0000e+00\n",
      "Epoch 95/1000\n",
      "404/404 [==============================] - 0s 389us/step - loss: 50.2665 - accuracy: 0.0000e+00\n",
      "Epoch 96/1000\n",
      "404/404 [==============================] - 0s 25us/step - loss: 50.1741 - accuracy: 0.0000e+00\n",
      "Epoch 97/1000\n",
      "404/404 [==============================] - 0s 32us/step - loss: 50.0508 - accuracy: 0.0000e+00\n",
      "Epoch 98/1000\n",
      "404/404 [==============================] - 0s 42us/step - loss: 49.9566 - accuracy: 0.0000e+00\n",
      "Epoch 99/1000\n",
      "404/404 [==============================] - 0s 35us/step - loss: 49.8853 - accuracy: 0.0025\n",
      "Epoch 100/1000\n",
      "404/404 [==============================] - 0s 510us/step - loss: 49.7590 - accuracy: 0.0025\n",
      "Epoch 101/1000\n",
      "404/404 [==============================] - 0s 245us/step - loss: 49.6506 - accuracy: 0.0025\n",
      "Epoch 102/1000\n",
      "404/404 [==============================] - 0s 287us/step - loss: 49.5480 - accuracy: 0.0025\n",
      "Epoch 103/1000\n",
      "404/404 [==============================] - 0s 42us/step - loss: 49.4578 - accuracy: 0.0000e+00\n",
      "Epoch 104/1000\n",
      "404/404 [==============================] - 0s 176us/step - loss: 49.3869 - accuracy: 0.0000e+00\n",
      "Epoch 105/1000\n",
      "404/404 [==============================] - 0s 27us/step - loss: 49.2840 - accuracy: 0.0025\n",
      "Epoch 106/1000\n",
      "404/404 [==============================] - 0s 27us/step - loss: 49.1886 - accuracy: 0.0025\n",
      "Epoch 107/1000\n",
      "404/404 [==============================] - 0s 30us/step - loss: 49.0715 - accuracy: 0.0025\n",
      "Epoch 108/1000\n",
      "404/404 [==============================] - 0s 27us/step - loss: 48.9990 - accuracy: 0.0050\n",
      "Epoch 109/1000\n",
      "404/404 [==============================] - 0s 30us/step - loss: 48.9235 - accuracy: 0.0050\n",
      "Epoch 110/1000\n",
      "404/404 [==============================] - 0s 191us/step - loss: 48.8270 - accuracy: 0.0050\n",
      "Epoch 111/1000\n",
      "404/404 [==============================] - 0s 27us/step - loss: 48.6947 - accuracy: 0.0050\n",
      "Epoch 112/1000\n",
      "404/404 [==============================] - 0s 186us/step - loss: 48.6034 - accuracy: 0.0050\n",
      "Epoch 113/1000\n",
      "404/404 [==============================] - 0s 309us/step - loss: 48.5251 - accuracy: 0.0025\n",
      "Epoch 114/1000\n",
      "404/404 [==============================] - 0s 374us/step - loss: 48.4573 - accuracy: 0.0025\n",
      "Epoch 115/1000\n",
      "404/404 [==============================] - 0s 480us/step - loss: 48.3271 - accuracy: 0.0025\n",
      "Epoch 116/1000\n",
      "404/404 [==============================] - 0s 953us/step - loss: 48.2120 - accuracy: 0.0025\n",
      "Epoch 117/1000\n",
      "404/404 [==============================] - 0s 235us/step - loss: 48.1082 - accuracy: 0.0050\n"
     ]
    }
   ],
   "source": [
    "x_train, x_test, y_train, y_test = train_test_split(x, y, test_size=0.2)\n",
    "m.fit(x_train, y_train, epochs=1000, batch_size=253)"
   ]
  },
  {
   "cell_type": "code",
   "execution_count": 28,
   "metadata": {},
   "outputs": [
    {
     "name": "stdout",
     "output_type": "stream",
     "text": [
      "['loss', 'accuracy']\n",
      "506/506 [==============================] - 0s 55us/step\n"
     ]
    },
    {
     "data": {
      "text/plain": [
       "[8.967057461795129, 0.02766798436641693]"
      ]
     },
     "execution_count": 28,
     "metadata": {},
     "output_type": "execute_result"
    }
   ],
   "source": [
    "print(m.metrics_names)\n",
    "m.evaluate(x, y)"
   ]
  },
  {
   "cell_type": "code",
   "execution_count": 23,
   "metadata": {},
   "outputs": [
    {
     "name": "stdout",
     "output_type": "stream",
     "text": [
      "[[17.56 16.45 23.6  15.58 26.57 13.71 21.76 23.3  20.29 19.66 35.66 18.46\n",
      "  12.71 35.77 22.65 26.9  21.71 31.02 37.08 25.36 23.9  26.71 14.02 21.16\n",
      "  17.2  19.09 29.15 19.2  16.   25.74 16.67 22.96 13.49 20.97 34.5  39.12\n",
      "  25.23 13.78 16.76 21.34 21.63 35.07  7.84 22.46 36.84 11.48 16.42 33.91\n",
      "  20.83 36.48 22.87 19.77 10.48  9.79 31.52 25.58 23.78 25.02 20.85 36.64\n",
      "  10.44 24.73 12.99 20.75 19.69 37.3  12.7  19.49 26.82 22.54 38.32 26.17\n",
      "  36.95 14.59 22.43 13.28 14.59  7.21 28.26 22.3  12.81 32.88 24.37  6.59\n",
      "  28.33 16.32 14.15 20.69  2.97 19.81 21.36 21.35 21.24 37.93  7.38 22.41\n",
      "  16.25 12.89 20.54 17.3  11.64  3.85]]\n",
      "[17.8 19.6 22.7 13.1 30.3 19.1 21.  27.5 14.9 19.4 35.4 18.8 13.5 35.1\n",
      " 21.7 23.2 22.2 30.8 31.  28.7 22.  23.5 17.6 21.9 18.3 26.6 33.4 20.4\n",
      " 18.4 29.6 19.9 21.  12.7 22.5 32.9 43.1 24.4 17.1 20.1 19.3 20.6 37.2\n",
      " 10.2 23.2 50.   7.5 22.9 42.3 21.1 44.8 21.2 19.3  9.7 20.2 42.8 20.8\n",
      " 18.6 21.5 21.8 33.8 12.  23.3 13.3 22.6 19.4 50.  15.  13.5 33.  22.9\n",
      " 36.  26.4 50.  19.3 23.1 16.5 23.8  8.8 27.5 18.5 11.8 31.5 25.2  7.4\n",
      " 34.7 13.8 13.3 22.2 14.4 16.1 19.3 20.8 19.6 50.   6.3 21.9 10.8 20.6\n",
      " 16.8 18.2 11.7  8.5]\n"
     ]
    },
    {
     "name": "stderr",
     "output_type": "stream",
     "text": [
      "C:\\Users\\User\\Anaconda3\\lib\\site-packages\\ipykernel_launcher.py:6: FutureWarning: Method .as_matrix will be removed in a future version. Use .values instead.\n",
      "  \n"
     ]
    },
    {
     "data": {
      "text/plain": [
       "46.0"
      ]
     },
     "execution_count": 23,
     "metadata": {},
     "output_type": "execute_result"
    }
   ],
   "source": [
    "m.predict(x_test)\n",
    "#m.summary()\n",
    "\n",
    "predictval =  np.around(m.predict(x_test).T,2)\n",
    "print(predictval)\n",
    "output = (y_test.as_matrix().astype(np.float32))\n",
    "print(output)\n",
    "round(np.sqrt(np.sum((m.predict(x_test).T -output)**2)))\n"
   ]
  },
  {
   "cell_type": "code",
   "execution_count": 24,
   "metadata": {},
   "outputs": [
    {
     "name": "stdout",
     "output_type": "stream",
     "text": [
      "102/102 [==============================] - 0s 186us/step\n"
     ]
    },
    {
     "data": {
      "text/plain": [
       "[20.49273947173474, 0.0]"
      ]
     },
     "execution_count": 24,
     "metadata": {},
     "output_type": "execute_result"
    }
   ],
   "source": [
    "m.evaluate(x_test, y_test)"
   ]
  },
  {
   "cell_type": "markdown",
   "metadata": {},
   "source": [
    "  ## Pre Processing of Data for Keras\n",
    "I will now investigate whether pre processing the data (still using all 13 inputs) makes any significant improvement"
   ]
  },
  {
   "cell_type": "code",
   "execution_count": null,
   "metadata": {},
   "outputs": [],
   "source": [
    "# now going to repeat the above using the four inputs of most interest\n",
    "Y=df['MEDV']\n",
    "print(Y)\n",
    "Xfour =df[['ZN','RM', 'LSTAT','PTRATIO' ]]\n",
    "print(Xfour)"
   ]
  },
  {
   "cell_type": "code",
   "execution_count": null,
   "metadata": {},
   "outputs": [],
   "source": [
    "\n",
    "m = models.Sequential()\n",
    "#m.add(layers.Dense(52, activation='relu', input_dim =13))\n",
    "#m.add(Dense(40,input_dim=13,kernel_initializer='normal',activation='relu',use_bias=False))\n",
    "m.add(layers.Dense(39, activation='relu', input_dim =4))\n",
    "m.add(layers.Dense(39, activation='relu'))\n",
    "#m.add(layers.Dense(1,))\n",
    "#m.add(Dense(40,kernel_initializer='random_uniform',activation='relu',use_bias=False))\n",
    "m.add(Dense(1,kernel_initializer='normal',activation='linear',use_bias=False))\n",
    "\n",
    "m.compile(loss='mse', optimizer='adam',metrics=['accuracy'])"
   ]
  },
  {
   "cell_type": "code",
   "execution_count": null,
   "metadata": {},
   "outputs": [],
   "source": [
    "x_train, x_test, y_train, y_test = train_test_split(Xfour, Y, test_size=0.2)\n",
    "m.fit(x_train, y_train, epochs=1000, batch_size=22)"
   ]
  },
  {
   "cell_type": "code",
   "execution_count": null,
   "metadata": {},
   "outputs": [],
   "source": [
    "print(m.metrics_names)\n",
    "m.evaluate(Xfour, Y)"
   ]
  },
  {
   "cell_type": "code",
   "execution_count": null,
   "metadata": {},
   "outputs": [],
   "source": [
    "m.predict(x_test)\n",
    "#m.summary()\n",
    "\n",
    "predictval =  np.around(m.predict(x_test).T,2)\n",
    "print(predictval)\n",
    "output = (y_test.as_matrix().astype(np.float32))\n",
    "print(output)\n",
    "round(np.sqrt(np.sum((m.predict(x_test).T -output)**2)))"
   ]
  },
  {
   "cell_type": "markdown",
   "metadata": {},
   "source": [
    "### scaling"
   ]
  },
  {
   "cell_type": "code",
   "execution_count": null,
   "metadata": {},
   "outputs": [],
   "source": [
    "from sklearn.model_selection import train_test_split "
   ]
  },
  {
   "cell_type": "code",
   "execution_count": null,
   "metadata": {},
   "outputs": [],
   "source": [
    "#preprocessing of all dataset[]\n",
    "# scaling \n",
    "import sklearn.preprocessing as pre\n",
    "xscale = pd.DataFrame(pre.scale(X), columns = X.columns)\n",
    "xscale\n",
    "yscale = pd.DataFrame(pre.scale(Y))\n",
    "xscale, yscale"
   ]
  },
  {
   "cell_type": "markdown",
   "metadata": {},
   "source": [
    "### fitting and transforming"
   ]
  },
  {
   "cell_type": "code",
   "execution_count": null,
   "metadata": {},
   "outputs": [],
   "source": [
    "scaler=pre.StandardScaler()\n",
    "scaler.fit(X)\n",
    "X\n",
    "scaler.mean_ , X.std()"
   ]
  },
  {
   "cell_type": "code",
   "execution_count": null,
   "metadata": {},
   "outputs": [],
   "source": [
    "xscale = pd.DataFrame(scaler.transform(X), columns = X.columns)\n",
    "xscale"
   ]
  },
  {
   "cell_type": "markdown",
   "metadata": {},
   "source": [
    "\n"
   ]
  },
  {
   "cell_type": "code",
   "execution_count": null,
   "metadata": {},
   "outputs": [],
   "source": [
    "##X_train, X_test, Y_train, Y_test = train_test_split(X, Y, test_size = 0.2)\n",
    "X_train, X_test, Y_train, Y_test = train_test_split(xscale, yscale, test_size = 0.2)\n",
    "\n",
    "print(X_train.shape)\n",
    "print(X_test.shape)\n",
    "print(Y_train.shape)\n",
    "print(Y_test.shape)\n",
    "print(Y_test)\n",
    "print(X_test)"
   ]
  },
  {
   "cell_type": "markdown",
   "metadata": {},
   "source": [
    "### whitening data"
   ]
  },
  {
   "cell_type": "code",
   "execution_count": null,
   "metadata": {},
   "outputs": [],
   "source": [
    "X.corr()"
   ]
  },
  {
   "cell_type": "code",
   "execution_count": null,
   "metadata": {},
   "outputs": [],
   "source": [
    "import sklearn.decomposition as dec\n",
    "pca = dec.PCA(n_components = 13, whiten = True)\n",
    "pca.fit(X_train)\n",
    "x_train_white = pd.DataFrame(pca.transform(X_train), columns=X.columns)\n",
    "x_train_white"
   ]
  },
  {
   "cell_type": "code",
   "execution_count": null,
   "metadata": {},
   "outputs": [],
   "source": [
    "x_train_white.corr().round(),x_train_white.mean().round(),x_train_white.std().round()"
   ]
  },
  {
   "cell_type": "markdown",
   "metadata": {},
   "source": [
    "### build neural network model\n"
   ]
  },
  {
   "cell_type": "markdown",
   "metadata": {},
   "source": [
    "from sklearn.model_selection import train_test_split \n",
    "Y=df['MEDV']\n",
    "print(Y)\n",
    "X =df[['ZN','RM', 'LSTAT','PTRATIO' ]]\n",
    "print(X)"
   ]
  },
  {
   "cell_type": "code",
   "execution_count": null,
   "metadata": {},
   "outputs": [],
   "source": [
    "from keras import models\n",
    "from keras import layers\n",
    "from keras.models import Sequential\n",
    "from keras.layers import Dense, Activation\n",
    "\n",
    "m = models.Sequential()\n",
    "#m.add(layers.Dense(52, activation='relu', input_dim =13))\n",
    "#m.add(Dense(40,input_dim=13,kernel_initializer='normal',activation='relu',use_bias=False))\n",
    "m.add(layers.Dense(64, activation='relu', input_dim =13))\n",
    "#m.add(layers.Dense(52, activation='relu'))\n",
    "#m.add(layers.Dense(1,))\n",
    "#m.add(Dense(40,kernel_initializer='random_uniform',activation='relu',use_bias=False))\n",
    "m.add(Dense(1,kernel_initializer='normal',activation='linear',use_bias=False))\n",
    "\n",
    "\n",
    "m.compile(loss='mse', optimizer='adam',metrics=['accuracy'])\n",
    "    "
   ]
  },
  {
   "cell_type": "code",
   "execution_count": null,
   "metadata": {},
   "outputs": [],
   "source": [
    "#_train, X_test, Y_train, Y_test = train_test_split(xscale, yscale, test_size = 0.2)\n",
    "#X_train, X_test, Y_train, Y_test = train_test_split(xwhite,scale, test_size = 0.2)\n",
    "\n",
    "#print(X_train.shape)\n",
    "#print(X_test.shape)\n",
    "#print(Y_train.shape)\n",
    "#print(Y_test.shape)\n",
    "#print(Y_test)\n",
    "#print(X_test)"
   ]
  },
  {
   "cell_type": "code",
   "execution_count": null,
   "metadata": {},
   "outputs": [],
   "source": [
    "#x = X_train\n",
    "#y = m.predict()\n",
    "\n",
    "#history = m.fit(X_train,Y_train, validation_split = 0.20,epochs =150, batch_size =25)\n",
    "#history = m.fit(x_train_white,Y_train, validation_split = 0.20,epochs =150, batch_size =25)\n",
    "history = m.fit(x_train_white,Y_train, epochs =75, batch_size =25)\n",
    "\n",
    "#history = m.fit(X_train,Y_train,epochs =150, batch_size =25)\n",
    "print(history.history.keys())\n",
    "\n"
   ]
  },
  {
   "cell_type": "code",
   "execution_count": null,
   "metadata": {},
   "outputs": [],
   "source": [
    "x_test_white = scaler.transform(X_test)\n",
    "m.predict(x_test_white).round().T\n",
    "Y_test.as_matrix().astype(np.float32)\n",
    "m.evaluate(x_test_white, Y_test)"
   ]
  },
  {
   "cell_type": "code",
   "execution_count": null,
   "metadata": {},
   "outputs": [],
   "source": [
    "plt.plot(history.history['loss'])\n",
    "plt.plot(history.history['val_loss'])\n",
    "\n",
    "plt.title('model loss')\n",
    "plt.ylabel('loss')\n",
    "plt.xlabel('epoch')\n",
    "plt.legend(['train', 'validation'], loc='upper left')\n",
    "plt.show()"
   ]
  },
  {
   "cell_type": "code",
   "execution_count": null,
   "metadata": {},
   "outputs": [],
   "source": [
    "m.predict(X_test).T\n",
    "m.summary()\n",
    "print (m.predict(X_test).T)\n"
   ]
  },
  {
   "cell_type": "code",
   "execution_count": null,
   "metadata": {},
   "outputs": [],
   "source": [
    "#output = (Y_test)\n",
    "#print(output)\n",
    "#np.sqrt(np.sum((m.predict(X_test).T -output)**2))"
   ]
  },
  {
   "cell_type": "markdown",
   "metadata": {},
   "source": [
    "## references"
   ]
  },
  {
   "cell_type": "markdown",
   "metadata": {},
   "source": [
    "\n",
    "https://docs.scipy.org/doc/scipy/reference/stats.html\n",
    "[2] https://stattrek.com/hypothesis-test/difference-in-means.aspx\n",
    "https://blog.minitab.com/blog/understanding-statistics/what-can-you-say-when-your-p-value-is-greater-than-005\n",
    "    \n",
    "    \n",
    "Pre Processing Data\n",
    "https://keras.io/models/about-keras-models/\n",
    "https://scikit-learn.org/stable/modules/preprocessing.html\n",
    "https://keras.io/\n",
    "    \n",
    "### books\n",
    "[1] Statistics: A very Short Introduction Hand, D., J 2008\n",
    "test git desktop\n",
    "Python Data Analysis - Fandango, Armando\n",
    "    "
   ]
  }
 ],
 "metadata": {
  "kernelspec": {
   "display_name": "Python 3",
   "language": "python",
   "name": "python3"
  },
  "language_info": {
   "codemirror_mode": {
    "name": "ipython",
    "version": 3
   },
   "file_extension": ".py",
   "mimetype": "text/x-python",
   "name": "python",
   "nbconvert_exporter": "python",
   "pygments_lexer": "ipython3",
   "version": "3.7.4"
  }
 },
 "nbformat": 4,
 "nbformat_minor": 2
}
